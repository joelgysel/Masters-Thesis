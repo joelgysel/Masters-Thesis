{
 "cells": [
  {
   "cell_type": "markdown",
   "metadata": {},
   "source": [
    "# Preparation"
   ]
  },
  {
   "cell_type": "code",
   "execution_count": 1,
   "metadata": {},
   "outputs": [
    {
     "name": "stdout",
     "output_type": "stream",
     "text": [
      "Running file completed\n"
     ]
    }
   ],
   "source": [
    "%run \"/Users/joel.gysel/GoogleDrive/Masterarbeit/04_code/jupyter/01_Preparation.ipynb\""
   ]
  },
  {
   "cell_type": "markdown",
   "metadata": {},
   "source": [
    "# Descriptive Statistics"
   ]
  },
  {
   "cell_type": "code",
   "execution_count": null,
   "metadata": {},
   "outputs": [],
   "source": [
    "%run \"/Users/joel.gysel/GoogleDrive/Masterarbeit/04_code/jupyter/02_Descriptives.ipynb\""
   ]
  },
  {
   "cell_type": "markdown",
   "metadata": {},
   "source": [
    "# Testing of different models"
   ]
  },
  {
   "cell_type": "markdown",
   "metadata": {},
   "source": [
    "## Load packages"
   ]
  },
  {
   "cell_type": "code",
   "execution_count": 2,
   "metadata": {},
   "outputs": [],
   "source": [
    "import statistics\n",
    "from collections import Counter\n",
    "\n",
    "# load general packages\n",
    "from sklearn.model_selection import train_test_split\n",
    "from sklearn.model_selection import KFold\n",
    "from sklearn.model_selection import cross_val_score\n",
    "# import pydotplus\n",
    "# from pydotplus import graph_from_dot_data\n",
    "from sklearn.tree import export_graphviz\n",
    "\n",
    "# Precision-Recall curve\n",
    "from sklearn.metrics import precision_recall_curve\n",
    "from sklearn.metrics import plot_precision_recall_curve"
   ]
  },
  {
   "cell_type": "code",
   "execution_count": 3,
   "metadata": {},
   "outputs": [],
   "source": [
    "from sklearn import metrics\n",
    "from sklearn.metrics import accuracy_score\n",
    "from sklearn.metrics import precision_score\n",
    "from sklearn.metrics import recall_score\n",
    "from sklearn.metrics import f1_score\n",
    "from sklearn.metrics import confusion_matrix\n",
    "from sklearn.metrics import fbeta_score\n",
    "from sklearn.metrics import average_precision_score"
   ]
  },
  {
   "cell_type": "code",
   "execution_count": 4,
   "metadata": {},
   "outputs": [],
   "source": [
    "# Activate Packages for oversampling\n",
    "\n",
    "from imblearn.over_sampling import RandomOverSampler\n",
    "from imblearn.over_sampling import SMOTE\n",
    "from imblearn.over_sampling import ADASYN"
   ]
  },
  {
   "cell_type": "code",
   "execution_count": 5,
   "metadata": {},
   "outputs": [],
   "source": [
    "# Load packages for classifiers\n",
    "from sklearn.linear_model import LogisticRegression\n",
    "from sklearn import tree\n",
    "from sklearn.tree import DecisionTreeClassifier\n",
    "from sklearn.ensemble import RandomForestClassifier\n",
    "from sklearn.ensemble import AdaBoostClassifier\n",
    "from sklearn.ensemble import GradientBoostingClassifier\n",
    "from sklearn.naive_bayes import GaussianNB\n",
    "from sklearn.svm import SVC\n",
    "from sklearn.neighbors import KNeighborsClassifier"
   ]
  },
  {
   "cell_type": "markdown",
   "metadata": {},
   "source": [
    "## Oversampling"
   ]
  },
  {
   "cell_type": "code",
   "execution_count": 6,
   "metadata": {},
   "outputs": [],
   "source": [
    "# Define oversampling algorithms \n",
    "ros1    = RandomOverSampler(0.2, random_state=0)\n",
    "ros2    = RandomOverSampler(0.4, random_state=0)\n",
    "ros3    = RandomOverSampler(0.6, random_state=0)\n",
    "ros4    = RandomOverSampler(0.8, random_state=0)\n",
    "ros5    = RandomOverSampler(1.0, random_state=0)\n",
    "\n",
    "smote1  = SMOTE(0.2, random_state=0)\n",
    "smote2  = SMOTE(0.4, random_state=0)\n",
    "smote3  = SMOTE(0.6, random_state=0)\n",
    "smote4  = SMOTE(0.8, random_state=0)\n",
    "smote5  = SMOTE(1.0, random_state=0)\n",
    "\n",
    "adasyn1 = ADASYN(0.2, random_state=0)\n",
    "adasyn2 = ADASYN(0.4, random_state=0)\n",
    "adasyn3 = ADASYN(0.6, random_state=0)\n",
    "adasyn4 = ADASYN(0.8, random_state=0)\n",
    "adasyn5 = ADASYN(1.0, random_state=0)\n",
    "\n",
    "\n",
    "samplers = [\"none\", ros1, smote1, adasyn1]\n",
    "\n",
    "samplers = [\"none\", ros1, ros2, ros3, ros4, ros5,\n",
    "            \"none\", smote1, smote2, smote3, smote4, smote5, \n",
    "            \"none\", adasyn1, adasyn2, adasyn3, adasyn4, adasyn5]"
   ]
  },
  {
   "cell_type": "markdown",
   "metadata": {},
   "source": [
    "## Variables"
   ]
  },
  {
   "cell_type": "code",
   "execution_count": 9,
   "metadata": {},
   "outputs": [],
   "source": [
    "varlist1   = [\"STDR\"]\n",
    "varlist2   = [\"STDR\", \"M2R\"]\n",
    "varlist3   = [\"STDR\", \"M2R\", \"ResG\"]\n",
    "varlist4   = [\"STDR\", \"M2R\", \"ResG\", \"CAY\"]\n",
    "varlist5   = [\"STDR\", \"M2R\", \"ResG\", \"CAY\", \"FDIY\"]\n",
    "varlist6   = [\"STDR\", \"M2R\", \"ResG\", \"CAY\", \"FDIY\", \"DSER\"]\n",
    "varlist7   = [\"STDR\", \"M2R\", \"ResG\", \"CAY\", \"FDIY\", \"DSER\", \"Cont_tot\"]\n",
    "varlist8   = [\"STDR\", \"M2R\", \"ResG\", \"CAY\", \"FDIY\", \"DSER\", \"Cont_tot\", \"INF\"]\n",
    "varlist9   = [\"STDR\", \"M2R\", \"ResG\", \"CAY\", \"FDIY\", \"DSER\", \"Cont_tot\", \"INF\", \"SEDY\"]\n",
    "varlist10  = [\"STDR\", \"M2R\", \"ResG\", \"CAY\", \"FDIY\", \"DSER\", \"Cont_tot\", \"INF\", \"SEDY\", \"OVER\"]\n",
    "varlist11  = [\"STDR\", \"M2R\", \"ResG\", \"CAY\", \"FDIY\", \"DSER\", \"Cont_tot\", \"INF\", \"SEDY\", \"OVER\", \"FDIG\"]\n",
    "varlist12  = [\"STDR\", \"M2R\", \"ResG\", \"CAY\", \"FDIY\", \"DSER\", \"Cont_tot\", \"INF\", \"SEDY\", \"OVER\", \"FDIG\", \"XG\"]\n",
    "varlist13  = [\"STDR\", \"M2R\", \"ResG\", \"CAY\", \"FDIY\", \"DSER\", \"Cont_tot\", \"INF\", \"SEDY\", \"OVER\", \"FDIG\", \"XG\", \"TEDY\"]\n",
    "\n",
    "\n",
    "varlist    = [varlist1, varlist2, varlist3, varlist4, varlist5, varlist6, varlist7, varlist8, varlist9, varlist10, varlist11, varlist12, varlist13]"
   ]
  },
  {
   "cell_type": "markdown",
   "metadata": {},
   "source": [
    "## Classifiers"
   ]
  },
  {
   "cell_type": "code",
   "execution_count": 10,
   "metadata": {},
   "outputs": [],
   "source": [
    "lr1     = LogisticRegression(C=1)\n",
    "lr2     = LogisticRegression(C=0.5)\n",
    "lr3     = LogisticRegression(C=0.2)\n",
    "lr4     = LogisticRegression(C=0.1)\n",
    "lr5     = LogisticRegression(C=0.05)\n",
    "\n",
    "classifiers_lr = [lr1, lr2, lr3, lr4, lr5]\n",
    "\n",
    "# Best: 8 variables + lr1 (AP of 0.385)"
   ]
  },
  {
   "cell_type": "code",
   "execution_count": 11,
   "metadata": {},
   "outputs": [],
   "source": [
    "tree1   = DecisionTreeClassifier(criterion='gini', max_depth=1 , random_state=1)\n",
    "tree2   = DecisionTreeClassifier(criterion='gini', max_depth=2 , random_state=1)\n",
    "tree3   = DecisionTreeClassifier(criterion='gini', max_depth=3 , random_state=1)\n",
    "tree4   = DecisionTreeClassifier(criterion='gini', max_depth=4 , random_state=1)\n",
    "tree5   = DecisionTreeClassifier(criterion='gini', max_depth=5 , random_state=1)\n",
    "tree6   = DecisionTreeClassifier(criterion='gini', max_depth=6 , random_state=1)\n",
    "tree7   = DecisionTreeClassifier(criterion='gini', max_depth=7 , random_state=1)\n",
    "tree8   = DecisionTreeClassifier(criterion='gini', max_depth=8 , random_state=1)\n",
    "tree9   = DecisionTreeClassifier(criterion='gini', max_depth=9 , random_state=1)\n",
    "tree10  = DecisionTreeClassifier(criterion='gini', max_depth=10 , random_state=1)\n",
    "tree15  = DecisionTreeClassifier(criterion='gini', max_depth=15 , random_state=1)\n",
    "tree20  = DecisionTreeClassifier(criterion='gini', max_depth=20 , random_state=1)\n",
    "\n",
    "classifiers_tree = [tree1, tree2, tree3, tree4, tree5, tree6, tree7, tree8, tree9, tree10, tree15, tree20]\n",
    "\n",
    "# Best: 10 vars + Max depth of 6 (AP of 0.391)"
   ]
  },
  {
   "cell_type": "code",
   "execution_count": 12,
   "metadata": {},
   "outputs": [],
   "source": [
    "forest1 = RandomForestClassifier(criterion='gini', n_estimators=10, random_state=1)\n",
    "forest2 = RandomForestClassifier(criterion='gini', n_estimators=25, random_state=1)\n",
    "forest3 = RandomForestClassifier(criterion='gini', n_estimators=50, random_state=1)\n",
    "forest4 = RandomForestClassifier(criterion='gini', n_estimators=100, random_state=1)\n",
    "forest5 = RandomForestClassifier(criterion='gini', n_estimators=500, random_state=1)\n",
    "\n",
    "classifiers_forest = [forest1, forest2, forest3, forest4, forest5]\n",
    "\n",
    "# Best: 13 Variables, n_estimators = 100 (AP of 0.515)"
   ]
  },
  {
   "cell_type": "code",
   "execution_count": 13,
   "metadata": {},
   "outputs": [],
   "source": [
    "ada10_01  = AdaBoostClassifier(n_estimators = 10, learning_rate = 0.1, random_state = 1)\n",
    "ada10_05  = AdaBoostClassifier(n_estimators = 10, learning_rate = 0.5, random_state = 1)\n",
    "ada10_10  = AdaBoostClassifier(n_estimators = 10, learning_rate = 1.0, random_state = 1)\n",
    "ada10_20  = AdaBoostClassifier(n_estimators = 10, learning_rate = 2.0, random_state = 1)\n",
    "\n",
    "ada50_01  = AdaBoostClassifier(n_estimators = 50, learning_rate = 0.1, random_state = 1)\n",
    "ada50_05  = AdaBoostClassifier(n_estimators = 50, learning_rate = 0.5, random_state = 1)\n",
    "ada50_10  = AdaBoostClassifier(n_estimators = 50, learning_rate = 1.0, random_state = 1)\n",
    "ada50_20  = AdaBoostClassifier(n_estimators = 50, learning_rate = 2.0, random_state = 1)\n",
    "\n",
    "ada100_01 = AdaBoostClassifier(n_estimators = 100, learning_rate = 0.1, random_state = 1)\n",
    "ada100_05 = AdaBoostClassifier(n_estimators = 100, learning_rate = 0.5, random_state = 1)\n",
    "ada100_10 = AdaBoostClassifier(n_estimators = 100, learning_rate = 1.0, random_state = 1)\n",
    "ada100_20 = AdaBoostClassifier(n_estimators = 100, learning_rate = 2.0, random_state = 1)\n",
    "\n",
    "ada1000_01 = AdaBoostClassifier(n_estimators = 1000, learning_rate = 0.1, random_state = 1)\n",
    "ada1000_05 = AdaBoostClassifier(n_estimators = 1000, learning_rate = 0.5, random_state = 1)\n",
    "ada1000_10 = AdaBoostClassifier(n_estimators = 1000, learning_rate = 1.0, random_state = 1)\n",
    "ada1000_20 = AdaBoostClassifier(n_estimators = 1000, learning_rate = 2.0, random_state = 1)\n",
    "\n",
    "classifiers_ada = [ada10_01, ada10_05, ada10_10, ada10_20, ada50_01, ada50_05, ada50_10, ada50_20, ada100_01, ada100_05, ada100_10, ada100_20, ada1000_01, ada1000_05, ada1000_10, ada1000_20]\n",
    "\n",
    "# Best: Ada50_05, 9 Vars (0.63)"
   ]
  },
  {
   "cell_type": "code",
   "execution_count": 14,
   "metadata": {},
   "outputs": [],
   "source": [
    "gb10_01   = GradientBoostingClassifier(n_estimators = 10, learning_rate = 0.1, random_state = 1)\n",
    "gb10_05   = GradientBoostingClassifier(n_estimators = 10, learning_rate = 0.5, random_state = 1)\n",
    "gb10_10   = GradientBoostingClassifier(n_estimators = 10, learning_rate = 1.0, random_state = 1)\n",
    "gb10_20   = GradientBoostingClassifier(n_estimators = 10, learning_rate = 2.0, random_state = 1)\n",
    "\n",
    "gb100_01  = GradientBoostingClassifier(n_estimators = 100, learning_rate = 0.1, random_state = 1)\n",
    "gb100_05  = GradientBoostingClassifier(n_estimators = 100, learning_rate = 0.5, random_state = 1)\n",
    "gb100_10  = GradientBoostingClassifier(n_estimators = 100, learning_rate = 1.0, random_state = 1)\n",
    "gb100_20  = GradientBoostingClassifier(n_estimators = 100, learning_rate = 2.0, random_state = 1)\n",
    "\n",
    "gb1000_01 = GradientBoostingClassifier(n_estimators = 1000, learning_rate = 0.1, random_state = 1)\n",
    "gb1000_05 = GradientBoostingClassifier(n_estimators = 1000, learning_rate = 0.5, random_state = 1)\n",
    "gb1000_10 = GradientBoostingClassifier(n_estimators = 1000, learning_rate = 1.0, random_state = 1)\n",
    "gb1000_20 = GradientBoostingClassifier(n_estimators = 1000, learning_rate = 2.0, random_state = 1)\n",
    "\n",
    "classifiers_gb = [gb10_01, gb10_05, gb10_10, gb10_20, gb100_01, gb100_05, gb100_10, gb100_20, gb1000_01, gb1000_05, gb1000_10, gb1000_20]\n",
    "\n",
    "# Best: gb1000_01, 10 Vars (0.63)"
   ]
  },
  {
   "cell_type": "code",
   "execution_count": 15,
   "metadata": {},
   "outputs": [],
   "source": [
    "import xgboost as xgb\n",
    "xgb1    = xgb.XGBClassifier(learning_rate=0.01, random_state=1)\n",
    "xgb2    = xgb.XGBClassifier(learning_rate=0.1, random_state=1)\n",
    "xgb3    = xgb.XGBClassifier(learning_rate=1, random_state=1)\n",
    "\n",
    "classifiers_xgb = [xgb1, xgb2, xgb3]\n",
    "\n",
    "# Best: xgb2, 9 Vars (0.63)"
   ]
  },
  {
   "cell_type": "code",
   "execution_count": 16,
   "metadata": {},
   "outputs": [],
   "source": [
    "knn1  = KNeighborsClassifier(n_neighbors=1)\n",
    "knn3  = KNeighborsClassifier(n_neighbors=3)\n",
    "knn5  = KNeighborsClassifier(n_neighbors=5)\n",
    "knn10 = KNeighborsClassifier(n_neighbors=10)\n",
    "knn20 = KNeighborsClassifier(n_neighbors=20)\n",
    "\n",
    "classifiers_knn = [knn1, knn3, knn5, knn10, knn20]\n",
    "\n",
    "# Best: knn20, 8 variables (AP: 0.55)"
   ]
  },
  {
   "cell_type": "code",
   "execution_count": 17,
   "metadata": {},
   "outputs": [],
   "source": [
    "gnb = GaussianNB()\n",
    "\n",
    "classifiers_gnb = [gnb]\n",
    "\n",
    "# Best: gnb, 7 Variables (AP: 0.34)"
   ]
  },
  {
   "cell_type": "code",
   "execution_count": 18,
   "metadata": {},
   "outputs": [],
   "source": [
    "svm1 = SVC(gamma=0.1, C=0.01, probability=True)\n",
    "svm2 = SVC(gamma=0.1, C=1, probability=True)\n",
    "svm3 = SVC(gamma=0.1, C=100, probability=True)\n",
    "\n",
    "svm4 = SVC(gamma=1, C=0.01, probability=True)\n",
    "svm5 = SVC(gamma=1, C=1, probability=True)\n",
    "svm6 = SVC(gamma=1, C=100, probability=True)\n",
    "\n",
    "svm7 = SVC(gamma=10, C=0.01, probability=True)\n",
    "svm8 = SVC(gamma=10, C=1, probability=True)\n",
    "svm9 = SVC(gamma=10, C=100, probability=True)\n",
    "\n",
    "classifiers_svm = [svm1, svm2, svm3, svm4, svm5, svm6, svm7, svm8, svm9]"
   ]
  },
  {
   "cell_type": "code",
   "execution_count": 19,
   "metadata": {},
   "outputs": [],
   "source": [
    "classifiers_list = [classifiers_lr, classifiers_tree, classifiers_forest, classifiers_ada, classifiers_gb, classifiers_xgb, classifiers_knn, classifiers_gnb, classifiers_svm]"
   ]
  },
  {
   "cell_type": "code",
   "execution_count": 20,
   "metadata": {},
   "outputs": [],
   "source": [
    "import dill\n",
    "dill.load_session('_start.db')"
   ]
  },
  {
   "cell_type": "code",
   "execution_count": 25,
   "metadata": {},
   "outputs": [
    {
     "name": "stdout",
     "output_type": "stream",
     "text": [
      "Stored 'classifiers_list' (list)\n"
     ]
    }
   ],
   "source": [
    "%store classifiers_list"
   ]
  },
  {
   "cell_type": "markdown",
   "metadata": {},
   "source": [
    "# Method 1: CV"
   ]
  },
  {
   "cell_type": "code",
   "execution_count": null,
   "metadata": {},
   "outputs": [],
   "source": [
    "%run \"/Users/joel.gysel/GoogleDrive/Masterarbeit/04_code/jupyter/03_CV.ipynb\""
   ]
  },
  {
   "cell_type": "markdown",
   "metadata": {},
   "source": [
    "# Method 2: Walk-Forward-Validation"
   ]
  },
  {
   "cell_type": "code",
   "execution_count": null,
   "metadata": {},
   "outputs": [],
   "source": [
    "%run \"/Users/joel.gysel/GoogleDrive/Masterarbeit/04_code/jupyter/04_WF.ipynb\""
   ]
  },
  {
   "cell_type": "markdown",
   "metadata": {},
   "source": [
    "# Final prediction"
   ]
  },
  {
   "cell_type": "code",
   "execution_count": null,
   "metadata": {},
   "outputs": [],
   "source": [
    "%run \"/Users/joel.gysel/GoogleDrive/Masterarbeit/04_code/jupyter/05_Combined.ipynb\""
   ]
  }
 ],
 "metadata": {
  "kernelspec": {
   "display_name": "Python 3",
   "language": "python",
   "name": "python3"
  },
  "language_info": {
   "codemirror_mode": {
    "name": "ipython",
    "version": 3
   },
   "file_extension": ".py",
   "mimetype": "text/x-python",
   "name": "python",
   "nbconvert_exporter": "python",
   "pygments_lexer": "ipython3",
   "version": "3.7.6"
  },
  "varInspector": {
   "cols": {
    "lenName": 16,
    "lenType": 16,
    "lenVar": 40
   },
   "kernels_config": {
    "python": {
     "delete_cmd_postfix": "",
     "delete_cmd_prefix": "del ",
     "library": "var_list.py",
     "varRefreshCmd": "print(var_dic_list())"
    },
    "r": {
     "delete_cmd_postfix": ") ",
     "delete_cmd_prefix": "rm(",
     "library": "var_list.r",
     "varRefreshCmd": "cat(var_dic_list()) "
    }
   },
   "oldHeight": 536,
   "position": {
    "height": "558px",
    "left": "1404px",
    "right": "-65px",
    "top": "140px",
    "width": "341px"
   },
   "types_to_exclude": [
    "module",
    "function",
    "builtin_function_or_method",
    "instance",
    "_Feature"
   ],
   "varInspector_section_display": "block",
   "window_display": true
  }
 },
 "nbformat": 4,
 "nbformat_minor": 2
}
